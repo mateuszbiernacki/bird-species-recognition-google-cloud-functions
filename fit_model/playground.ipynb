{
 "cells": [
  {
   "cell_type": "code",
   "execution_count": 2,
   "metadata": {},
   "outputs": [
    {
     "name": "stdout",
     "output_type": "stream",
     "text": [
      "      LP       POLSKI                      ŁACINA                     PODŁOGA\n",
      "0      1     Jastrząb          Accipiter gentilis          Accipiter_gentilis\n",
      "1      2    Trzciniak   Acrocephalus arundinaceus   Acrocephalus_arundinaceus\n",
      "2      3    Wodniczka     Acrocephalus paludicola     Acrocephalus_paludicola\n",
      "3      4      Łozówka      Acrocephalus palustris      Acrocephalus_palustris\n",
      "4      5  Rokitniczka  Acrocephalus schoenobaenus  Acrocephalus_schoenobaenus\n",
      "..   ...          ...                         ...                         ...\n",
      "155  156      Paszkot           Turdus viscivorus           Turdus_viscivorus\n",
      "156  157   Płomykówka                   Tyto alba                   Tyto_alba\n",
      "157  158        Dudek                 Upupa epops                 Upupa_epops\n",
      "158  159       Czajka           Vanellus vanellus           Vanellus_vanellus\n",
      "159  160     Zielonka              Zapornia parva              Zapornia_parva\n",
      "\n",
      "[160 rows x 4 columns]\n"
     ]
    }
   ],
   "source": [
    "import pandas as pd\n",
    "\n",
    "df = pd.read_csv('ptaki.csv')\n",
    "\n",
    "print(df)"
   ]
  },
  {
   "cell_type": "code",
   "execution_count": 4,
   "metadata": {},
   "outputs": [],
   "source": [
    "SPECIES = ['Dryobates minor', 'Carduelis carduelis', 'Anthus spinoletta', 'Linaria cannabina', 'Locustella fluviatilis', 'Apus apus', 'Tachybaptus ruficollis', 'Corvus cornix', 'Athene noctua', 'Chlidonias niger', 'Circus aeruginosus', 'Porzana porzana', 'Passer montanus', 'Tetrastes bonasia', 'Dendrocoptes medius', 'Sylvia borin', 'Streptopelia decaocto', 'Anser anser', 'Dendrocopos major', 'Aegolius funereus', 'Zapornia parva', 'Serinus serinus', 'Hirundo rustica', 'Scolopax rusticola', 'Locustella luscinioides', 'Corvus frugilegus', 'Sturnus vulgaris', 'Acrocephalus paludicola', 'Luscinia megarhynchos', 'Ardea cinerea', 'Numenius arquata', 'Lullula arborea', 'Lophophanes cristatus', 'Periparus ater', 'Locustella naevia', 'Cygnus olor', 'Chlidonias leucopterus', 'Gallinago media', 'Merops apiaster', 'Carpodacus erythrinus', 'Jynx torquilla', 'Limosa limosa', 'Spinus spinus', 'Parus major', 'Asio otus', 'Upupa epops', 'Fringilla coelebs', 'Cyanistes caeruleus', 'Curruca nisoria', 'Anser fabalis', 'Turdus pilaris', 'Perdix perdix', 'Luscinia svecica', 'Bombycilla garrulus', 'Emberiza schoeniclus', 'Columba oenas', 'Poecile palustris', 'Certhia familiaris', 'Luscinia luscinia', 'Cuculus canorus', 'Tringa nebularia', 'Prunella modularis', 'Buteo buteo', 'Acrocephalus arundinaceus', 'Lanius collurio', 'Galerida cristata', 'Spatula querquedula', 'Emberiza citrinella', 'Saxicola rubetra', 'Turdus iliacus', 'Riparia riparia', 'Haliaeetus albicilla', 'Remiz pendulinus', 'Coloeus monedula', 'Acrocephalus palustris', 'Gallinago gallinago', 'Lyrurus tetrix', 'Coccothraustes coccothraustes', 'Mareca strepera', 'Corvus corax', 'Chroicocephalus ridibundus', 'Sterna hirundo', 'Columba palumbus', 'Ardea alba', 'Acrocephalus scirpaceus', 'Tetrao urogallus', 'Bucephala clangula', 'Dryocopus martius', 'Streptopelia turtur', 'Panurus biarmicus', 'Caprimulgus europaeus', 'Oriolus oriolus', 'Regulus ignicapilla', 'Curruca communis', 'Accipiter gentilis', 'Anthus pratensis', 'Bubo bubo', 'Picus viridis', 'Motacilla alba', 'Ficedula hypoleuca', 'Muscicapa striata', 'Larus argentatus', 'Chlidonias hybrida', 'Haematopus ostralegus', 'Ficedula albicollis', 'Turdus philomelos', 'Pica pica', 'Poecile montanus', 'Troglodytes troglodytes', 'Alauda arvensis', 'Garrulus glandarius', 'Delichon urbicum', 'Falco tinnunculus', 'Podiceps cristatus', 'Phoenicurus phoenicurus', 'Acrocephalus schoenobaenus', 'Phylloscopus trochilus', 'Grus grus', 'Pyrrhula pyrrhula', 'Cygnus cygnus', 'Regulus regulus', 'Tringa totanus', 'Phylloscopus sibilatrix', 'Vanellus vanellus', 'Oenanthe oenanthe', 'Motacilla flava', 'Podiceps grisegena', 'Phylloscopus collybita', 'Curruca curruca', 'Erithacus rubecula', 'Passer domesticus', 'Tringa glareola', 'Coturnix coturnix', 'Alcedo atthis', 'Nucifraga caryocatactes', 'Strix aluco', 'Crex crex', 'Emberiza hortulana', 'Ciconia ciconia', 'Motacilla cinerea', 'Aythya ferina', 'Phalacrocorax carbo', 'Turdus viscivorus', 'Ficedula parva', 'Glaucidium passerinum', 'Phasianus colchicus', 'Phoenicurus ochruros', 'Tyto alba', 'Anthus trivialis', 'Charadrius dubius', 'Chloris chloris', 'Rallus aquaticus', 'Hippolais icterina', 'Fulica atra', 'Emberiza calandra', 'Botaurus stellaris', 'Sylvia atricapilla', 'Turdus merula', 'Anas platyrhynchos', 'Sitta europaea']\n",
    "\n"
   ]
  },
  {
   "cell_type": "code",
   "execution_count": 28,
   "metadata": {},
   "outputs": [],
   "source": [
    "PL = [df[df['ŁACINA'] == f'{latin}']['POLSKI'].iloc[0] for latin in SPECIES]\n"
   ]
  },
  {
   "cell_type": "code",
   "execution_count": 31,
   "metadata": {},
   "outputs": [],
   "source": [
    "str_to_print = '['\n",
    "\n",
    "for spec in PL:\n",
    "    str_to_print += f\"'{spec}', \"\n",
    "\n",
    "str_to_print += ']'"
   ]
  },
  {
   "cell_type": "code",
   "execution_count": 32,
   "metadata": {},
   "outputs": [
    {
     "name": "stdout",
     "output_type": "stream",
     "text": [
      "['Dzięciołek', 'Szczygieł', 'Siwerniak', 'Makolągwa', 'Strumieniówka', 'Jerzyk', 'Perkozek', 'Wrona', 'Pójdźka', 'Rybitwa czarna', 'Błotnik Stawowy', 'Kropiatka', 'Mazurek', 'Jarząbek', 'Dzięcioł średni', 'Gajówka', 'Sierpówka', 'Gęgawa', 'Dzięcioł Duży', 'Włochatka', 'Zielonka', 'Kulczyk', 'Dymówka', 'Słonka', 'Brzęczka', 'Gawron', 'Szpak', 'Wodniczka', 'Słowik Rdzawy', 'Czapla siwa', 'Kulik Wielki', 'Lerka', 'Czubatka', 'Sosnówka', 'Świerszczak', 'Łabędź niemy', 'Rybitwa białoskrzydła', 'Dubelt', 'Żołna', 'Dziwonia', 'Krętogłów', 'Rycyk', 'Czyż', 'Sikora Bogatka', 'Uszatka', 'Dudek', 'Zięba', 'Modraszka', 'Jarzębatka', 'Gęś zbożowa', 'Kwiczoł', 'Kuropatwa', 'Podróżniczek', 'Jemiołuszka', 'Potrzos', 'Siniak', 'Sikora Uboga', 'Pełzacz Leśny', 'Słowik Szary', 'Kukułka', 'Kwokacz', 'Pokrzywnica', 'Myszołów', 'Trzciniak', 'Gąsiorek', 'Dzierlatka', 'Cyranka', 'Trznadel', 'Poklaskwa', 'Droździk', 'Brzegówka', 'Bielik', 'Remiz', 'Kawka', 'Łozówka', 'Kszyk', 'Cietrzew', 'Grubodziób', 'Krakwa', 'Kruk', 'Mewa śmieszka', 'Rybitwa rzeczna', 'Grzywacz', 'Czapla biała', 'Trzcinniczek', 'Głuszec', 'Gągoł', 'Dzięcioł Czarny', 'Turkawka', 'Wąsatka', 'Lelek', 'Wilga', 'Zniczek', 'Cierniówka', 'Jastrząb', 'Świergotek Łąkowy', 'Puchacz', 'Dzięcioł Zielony', 'Pliszka Siwa', 'Muchołówka Żałobna', 'Muchołówka szara', 'Mewa srebrzysta', 'Rybitwy białowąsa', 'Ostrygojad', 'Muchołówka białoszyja', 'Śpiewak', 'Sroka', 'Czarnogłówka', 'Strzyżyk', 'Skowronek', 'Sójka', 'Oknówka', 'Pustułka', 'Perkoz Dwuczuby', 'Pleszka', 'Rokitniczka', 'Piecuszek', 'Żuraw', 'Gil', 'Łabędź krzykliwy', 'Mysikrólik', 'Krwawodziób', 'Świstunka', 'Czajka', 'Białorzytka', 'Pliszka Żółta', 'Perkoz Rdzawoszyi', 'Pierwiosnek', 'Piegża', 'Rudzik', 'Wróbel', 'Łęczak', 'Przepiórka', 'Zimorodek', 'Orzechówka', 'Puszczyk', 'Derkacz', 'Ortolan', 'Bocian Biały', 'Pliszka górska', 'Głowienka', 'Kormoran', 'Paszkot', 'Muchołówka mała', 'Sóweczka', 'Bażant', 'Kopciuszek', 'Płomykówka', 'Świergotek drzewny', 'Siweczka rzeczna', 'Dzwoniec', 'Wodnik', 'Zaganiacz', 'Łyska', 'Potrzeszcz', 'Bąk', 'Pokrzewka Czarnołbista', 'Kos', 'Krzyżówka', 'Kowalik', ]\n"
     ]
    }
   ],
   "source": [
    "print(str_to_print)"
   ]
  }
 ],
 "metadata": {
  "kernelspec": {
   "display_name": "base",
   "language": "python",
   "name": "python3"
  },
  "language_info": {
   "codemirror_mode": {
    "name": "ipython",
    "version": 3
   },
   "file_extension": ".py",
   "mimetype": "text/x-python",
   "name": "python",
   "nbconvert_exporter": "python",
   "pygments_lexer": "ipython3",
   "version": "3.11.4"
  },
  "orig_nbformat": 4
 },
 "nbformat": 4,
 "nbformat_minor": 2
}
